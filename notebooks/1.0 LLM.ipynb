{
 "cells": [
  {
   "cell_type": "markdown",
   "metadata": {},
   "source": [
    "<center>\n",
    "\n",
    "![logo.png](../images/competition_logo_catboost.png)\n",
    "</center>"
   ]
  },
  {
   "cell_type": "markdown",
   "metadata": {},
   "source": [
    "<center>\n",
    "\n",
    "# 🥸 LLM - решает твои проблемы?!\n",
    "</center>"
   ]
  },
  {
   "cell_type": "markdown",
   "metadata": {},
   "source": [
    "<div class=\"alert alert-success\">\n",
    "\n",
    "В [прошлом ноутбуке](\"https://t.me/catboost_agents/89\") мы создали свой первый `Baseline` и забрались в `leaderboard`. Но у предыдущего решения был ряд недостатков:\n",
    "* Мы никак не использовали ряд признаков: модель, интерьер, цвет кузова и прочее. Что очень плохо, так как мы теряем ценную информацию на пустом месте!\n",
    "* Модель очень слабая... Хоть и использовали `CatBoost`, он все равно еще в детском садике, так что есть куда расти\n",
    "* Одна модель всегда плохо. Один `CatBoost` не решит все проблемы человечества, поэтому надо пробовать разные архитектуры и так тоже улучшать скор\n",
    "\n",
    "Сегодня цель разобраться первостепенно с данными и превратить их в читаемый для ML-моделей формат. Начинаем 🚀"
   ]
  },
  {
   "cell_type": "markdown",
   "metadata": {},
   "source": [
    "# Настраиваемся на работу 🛠"
   ]
  },
  {
   "cell_type": "markdown",
   "metadata": {},
   "source": [
    "## Устанавливаем библиотеки 👨‍💻"
   ]
  },
  {
   "cell_type": "code",
   "execution_count": 1,
   "metadata": {},
   "outputs": [],
   "source": [
    "%%capture\n",
    "\n",
    "%pip install pandas\n",
    "%pip install langchain\n",
    "%pip install huggingface_hub\n",
    "%pip install langchain-community\n",
    "%pip install scikit-learn\n",
    "%pip install seaborn\n",
    "%pip install catboost"
   ]
  },
  {
   "cell_type": "markdown",
   "metadata": {},
   "source": [
    "## Импортируем 📦"
   ]
  },
  {
   "cell_type": "code",
   "execution_count": 2,
   "metadata": {},
   "outputs": [
    {
     "name": "stderr",
     "output_type": "stream",
     "text": [
      "/nix/store/yd5z6lnhsjim5ik01zbjaijnagi2mn5d-python3.11-tqdm-4.66.2/lib/python3.11/site-packages/tqdm/auto.py:21: TqdmWarning: IProgress not found. Please update jupyter and ipywidgets. See https://ipywidgets.readthedocs.io/en/stable/user_install.html\n",
      "  from .autonotebook import tqdm as notebook_tqdm\n"
     ]
    }
   ],
   "source": [
    "import numpy as np\n",
    "import pandas as pd\n",
    "import seaborn as sns\n",
    "import re\n",
    "import os\n",
    "\n",
    "from getpass import getpass\n",
    "from pathlib import Path\n",
    "from langchain.chains import LLMChain\n",
    "from langchain_community.llms import HuggingFaceEndpoint\n",
    "from langchain.prompts import PromptTemplate, FewShotPromptTemplate\n",
    "# from langchain import \n",
    "from tqdm.auto import tqdm\n",
    "from sklearn.model_selection import KFold\n",
    "from catboost import CatBoostRegressor\n",
    "from sklearn.metrics import root_mean_squared_error\n",
    "\n",
    "\n",
    "sns.set_theme()\n",
    "tqdm.pandas()"
   ]
  },
  {
   "cell_type": "markdown",
   "metadata": {},
   "source": [
    "# Подгружаем на данные 🤹‍♀️"
   ]
  },
  {
   "cell_type": "code",
   "execution_count": 3,
   "metadata": {},
   "outputs": [],
   "source": [
    "home_dir = Path('../data/')\n",
    "\n",
    "train_df = pd.read_csv(str(home_dir / \"train.csv\")).drop(columns='id')\n",
    "test_df = pd.read_csv(str(home_dir / \"test.csv\")).drop(columns='id')\n",
    "sample_df = pd.read_csv(str(home_dir / \"sample_submission.csv\"))"
   ]
  },
  {
   "cell_type": "markdown",
   "metadata": {},
   "source": [
    "## Feature-Engineering на стероидах 🦾"
   ]
  },
  {
   "cell_type": "markdown",
   "metadata": {},
   "source": [
    "<div class=\"alert alert-info\">\n",
    "\n",
    "Сегодня попробуем достать максимум информации из текстовых колонок: `brand`, `model`, `fuel_type`, `engine`, `transmission`: \n",
    "* `brand` превратить в страну производителя: Германия, ~~СССР~~ РФ и тд\n",
    "* `model` доставать тип кузова: кроссовер, купе и тд. Также престижная ли модель?\n",
    "* `engine` богат на признаки: кол-во лошадей, литры, кол-во цилиндров, тип топлива\n",
    "* `transmission`: AT, MT, CVT и все остальное. Также качественный ли агрегат в целом?\n",
    "\n",
    "Цель на сегодня понятна, но все это делать ручками? 😔"
   ]
  },
  {
   "cell_type": "markdown",
   "metadata": {},
   "source": [
    "<div class=\"alert alert\">\n",
    "Однозначно нет! Давно существуют LLM - Large Language Model, которая призвана решать ваши проблемы. Бежим с ними знакомиться"
   ]
  },
  {
   "cell_type": "markdown",
   "metadata": {},
   "source": [
    "## LLMки решают мои проблемы 👨‍🏫\n",
    "\n",
    "<p align=\"center\">\n",
    "<img src=\"../images/sharihov.jpg\" alt=\"drawing\" class=\"center\" width=\"400\"/>\n",
    "</p>"
   ]
  },
  {
   "cell_type": "code",
   "execution_count": 6,
   "metadata": {},
   "outputs": [],
   "source": [
    "os.environ[\"HUGGINGFACEHUB_API_TOKEN\"] = getpass(\n",
    "    prompt=\"Введите ваш HuggingFaceHub API ключ\"\n",
    ")"
   ]
  },
  {
   "cell_type": "code",
   "execution_count": 7,
   "metadata": {},
   "outputs": [
    {
     "name": "stdout",
     "output_type": "stream",
     "text": [
      "Token has not been saved to git credential helper. Pass `add_to_git_credential=True` if you want to set the git credential as well.\n",
      "Token is valid (permission: read).\n",
      "Your token has been saved to /home/artem/.cache/huggingface/token\n",
      "Login successful\n"
     ]
    }
   ],
   "source": [
    "# Инициализируем нашу модельку\n",
    "hf_llm = HuggingFaceEndpoint(\n",
    "    repo_id=\"mistralai/Mistral-7B-Instruct-v0.2\", # вводим название модели с HuggingFace\n",
    ")"
   ]
  },
  {
   "cell_type": "markdown",
   "metadata": {},
   "source": [
    "## Создаем инструкции для своего бота 📽"
   ]
  },
  {
   "cell_type": "markdown",
   "metadata": {
    "vscode": {
     "languageId": "html"
    }
   },
   "source": [
    "<div class=\"alert\">\n",
    "    \n",
    "Будем использовать `Few-Shot Prompt` в работе с LLM, чтобы точность ответов была, как можно выше ⚡️"
   ]
  },
  {
   "cell_type": "code",
   "execution_count": 15,
   "metadata": {},
   "outputs": [],
   "source": [
    "example_template = \"\"\"User: {query}\n",
    "AI: {answer}\n",
    "\"\"\"\n",
    "\n",
    "# создаём промпт из шаблона выше\n",
    "example_prompt = PromptTemplate(\n",
    "    input_variables=[\"query\", \"answer\"],\n",
    "    template=example_template\n",
    ")\n",
    "\n",
    "prefix = \"\"\"Ты профессионал в работе с автомобилями.\n",
    "Такой помощник превосходно разбирается в моделях авто, в двигателях и коробках передач.\n",
    "И дает краткие ответы без креатива.\n",
    "Вот несколько примеров:\n",
    "\"\"\"\n",
    "\n",
    "# а suffix - это вопрос пользователя и поле для ответа\n",
    "suffix = \"\"\"\n",
    "User: {query}\n",
    "AI: \"\"\"\n",
    "\n",
    "# создаём сами few shot prompts\n",
    "examples_model = [\n",
    "    {\n",
    "        \"query\": \"К какому корпусу относиться модель: Cooper S Base\",\n",
    "        \"answer\": \"Хэтчбек\"\n",
    "    }, {\n",
    "        \"query\": \"К какому корпусу относиться модель: Silverado 2500 LT\",\n",
    "        \"answer\": \"Пикап\"\n",
    "    }, {\n",
    "        \"query\": \"К какому корпусу относиться модель: Metris Base\",\n",
    "        \"answer\": \"Бус\"\n",
    "    }\n",
    "]\n",
    "\n",
    "examples_engine = [\n",
    "    {\n",
    "        \"query\": \"Какие характеристики у двигателя: 172.0HP 1.6L 4 Cylinder Engine Gasoline Fuel?\",\n",
    "        \"answer\": \"[172, 1.6, 4]\"\n",
    "    }, {\n",
    "        \"query\": \"Какие характеристики у двигателя: 420.0HP 5.0L 8 Cylinder Engine Gasoline Fuel\",\n",
    "        \"answer\": \"[420, 5, 8]\"\n",
    "    }, {\n",
    "        \"query\": \"Какие характеристики у двигателя: 3L\",\n",
    "        \"answer\": \"[250, 3, 6]\"\n",
    "    }\n",
    "]\n",
    "\n",
    "examples_transmission = [\n",
    "    {\n",
    "        \"query\": \"3L\",\n",
    "        \"answer\": \"[250, 3, 6]\"\n",
    "    }, {\n",
    "        \"query\": \"3L\",\n",
    "        \"answer\": \"[250, 3, 6]\"\n",
    "    }, {\n",
    "        \"query\": \"3L\",\n",
    "        \"answer\": \"[250, 3, 6]\"\n",
    "    }\n",
    "]"
   ]
  },
  {
   "cell_type": "code",
   "execution_count": 8,
   "metadata": {},
   "outputs": [],
   "source": [
    "few_shot_prompt_template = FewShotPromptTemplate(\n",
    "    examples=examples,\n",
    "    example_prompt=example_prompt,\n",
    "    prefix=prefix,\n",
    "    suffix=suffix,\n",
    "    input_variables=[\"query\"],\n",
    "    example_separator=\"\\n\\n\"\n",
    ")"
   ]
  },
  {
   "cell_type": "code",
   "execution_count": 10,
   "metadata": {},
   "outputs": [
    {
     "name": "stdout",
     "output_type": "stream",
     "text": [
      "Это разговор с ИИ-помощником.\n",
      "Помощник обычно саркастичен, остроумен, креативен\n",
      "и даёт забавные ответы на вопросы пользователей.\n",
      "Вот несколько примеров:\n",
      "\n",
      "\n",
      "User: Как дела?\n",
      "AI: Не могу пожаловаться, но иногда всё-таки жалуюсь.\n",
      "\n",
      "\n",
      "User: Сколько время?\n",
      "AI: Самое время купить часы.\n",
      "\n",
      "\n",
      "\n",
      "User: Почему падает снег?\n",
      "AI: \n"
     ]
    }
   ],
   "source": [
    "query = \"Почему падает снег?\"\n",
    "\n",
    "print(few_shot_prompt_template.format(query=query))"
   ]
  },
  {
   "cell_type": "code",
   "execution_count": 12,
   "metadata": {},
   "outputs": [
    {
     "ename": "AttributeError",
     "evalue": "'str' object has no attribute 'invoke'",
     "output_type": "error",
     "traceback": [
      "\u001b[0;31m---------------------------------------------------------------------------\u001b[0m",
      "\u001b[0;31mAttributeError\u001b[0m                            Traceback (most recent call last)",
      "Cell \u001b[0;32mIn[12], line 1\u001b[0m\n\u001b[0;32m----> 1\u001b[0m \u001b[43mhf_llm\u001b[49m\u001b[38;5;241;43m.\u001b[39;49m\u001b[43minvoke\u001b[49m\u001b[43m(\u001b[49m\u001b[43mfew_shot_prompt_template\u001b[49m\u001b[38;5;241;43m.\u001b[39;49m\u001b[43mformat\u001b[49m\u001b[43m(\u001b[49m\u001b[43mquery\u001b[49m\u001b[38;5;241;43m=\u001b[39;49m\u001b[43mquery\u001b[49m\u001b[43m)\u001b[49m\u001b[43m)\u001b[49m\u001b[38;5;241;43m.\u001b[39;49m\u001b[43minvoke\u001b[49m\n",
      "\u001b[0;31mAttributeError\u001b[0m: 'str' object has no attribute 'invoke'"
     ]
    }
   ],
   "source": [
    "hf_llm.invoke(few_shot_prompt_template.format(query=query))"
   ]
  },
  {
   "cell_type": "code",
   "execution_count": null,
   "metadata": {},
   "outputs": [],
   "source": []
  }
 ],
 "metadata": {
  "kernelspec": {
   "display_name": "venv",
   "language": "python",
   "name": "python3"
  },
  "language_info": {
   "codemirror_mode": {
    "name": "ipython",
    "version": 3
   },
   "file_extension": ".py",
   "mimetype": "text/x-python",
   "name": "python",
   "nbconvert_exporter": "python",
   "pygments_lexer": "ipython3",
   "version": "3.11.8"
  }
 },
 "nbformat": 4,
 "nbformat_minor": 2
}
